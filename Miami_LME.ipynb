{
 "cells": [
  {
   "cell_type": "code",
   "execution_count": 33,
   "metadata": {},
   "outputs": [],
   "source": [
    "#Importing necessary packages\n",
    "import os\n",
    "import requests\n",
    "import matplotlib\n",
    "%matplotlib inline\n",
    "import numpy as np\n",
    "import pandas as pd\n",
    "import statsmodels.api as sm\n",
    "import seaborn.apionly as sns\n",
    "from statsmodels.api import OLS\n",
    "import matplotlib.pyplot as plt\n",
    "from sklearn import preprocessing\n",
    "from pandas.core import datetools\n",
    "from sklearn.metrics import r2_score\n",
    "import statsmodels.formula.api as smf\n",
    "from sklearn.linear_model import LinearRegression\n",
    "from sklearn.model_selection import train_test_split"
   ]
  },
  {
   "cell_type": "code",
   "execution_count": 34,
   "metadata": {},
   "outputs": [],
   "source": [
    "#Setting up workspace\n",
    "url = 'https://github.com/ThomasShayHill/Miami/blob/master/Miami%20Sales%20with%20Elevation%20AG%20107K%20indexed%201971.xlsx?raw=true'\n",
    "Miami_SF = pd.read_excel(url)"
   ]
  },
  {
   "cell_type": "code",
   "execution_count": 35,
   "metadata": {},
   "outputs": [],
   "source": [
    "#Removing unnecessary predictors\n",
    "predictors = list(Miami_SF.columns.values)\n",
    "\n",
    "predictors.remove('X')\n",
    "predictors.remove('Zip_5char')\n",
    "predictors.remove('date_sale_1_num')\n",
    "predictors.remove('date_sale_2_num')\n",
    "predictors.remove('price_relative')\n",
    "predictors.remove('Address') \n",
    "predictors.remove('Zip')\n",
    "predictors.remove('Assessed')\n",
    "predictors.remove('Bath')\n",
    "predictors.remove('Stories')\n",
    "predictors.remove('Units')\n",
    "predictors.remove('Sale_Date_1')\n",
    "predictors.remove('Sale_Date_2')\n",
    "predictors.remove('Sale_Amount_2')\n",
    "predictors.remove('Total_Appreciation')\n",
    "predictors.remove('By_Year')\n",
    "predictors.remove('City')\n",
    "predictors.remove('Old_Land_Use_Categories')\n",
    "predictors.remove('price_relative_ind')\n",
    "predictors.remove('Bed')\n",
    "predictors.remove('New_Land_Use')\n",
    "predictors.remove('Sale_Amount_1')"
   ]
  },
  {
   "cell_type": "code",
   "execution_count": 36,
   "metadata": {},
   "outputs": [],
   "source": [
    "#Setting up for Linear regression\n",
    "msk = np.random.rand(len(Miami_SF)) < 0.5\n",
    "data_train = Miami_SF[msk]\n",
    "data_test = Miami_SF[~msk]\n",
    "\n",
    "y_train = data_train['price_relative_ind'].values\n",
    "x_train = data_train[predictors]\n",
    "y_test = data_test['price_relative_ind'].values\n",
    "x_test = data_test[predictors]"
   ]
  },
  {
   "cell_type": "code",
   "execution_count": 37,
   "metadata": {},
   "outputs": [
    {
     "name": "stdout",
     "output_type": "stream",
     "text": [
      "The R^2 on the train set using sklearn is  0.033564250355\n",
      "The R^2 on the test set using sklearn is  0.0287357150722\n"
     ]
    }
   ],
   "source": [
    "#Regression results using SKLearn\n",
    "regression_model = LinearRegression(fit_intercept=True)\n",
    "regression_model.fit(x_train,y_train)\n",
    "print(\"The R^2 on the train set using sklearn is \", regression_model.score(x_train, y_train))\n",
    "print(\"The R^2 on the test set using sklearn is \",regression_model.score(x_test,y_test))"
   ]
  },
  {
   "cell_type": "code",
   "execution_count": 38,
   "metadata": {},
   "outputs": [
    {
     "data": {
      "text/html": [
       "<table class=\"simpletable\">\n",
       "<caption>OLS Regression Results</caption>\n",
       "<tr>\n",
       "  <th>Dep. Variable:</th>            <td>y</td>        <th>  R-squared:         </th> <td>   0.241</td> \n",
       "</tr>\n",
       "<tr>\n",
       "  <th>Model:</th>                   <td>OLS</td>       <th>  Adj. R-squared:    </th> <td>   0.241</td> \n",
       "</tr>\n",
       "<tr>\n",
       "  <th>Method:</th>             <td>Least Squares</td>  <th>  F-statistic:       </th> <td>   5714.</td> \n",
       "</tr>\n",
       "<tr>\n",
       "  <th>Date:</th>             <td>Wed, 13 Dec 2017</td> <th>  Prob (F-statistic):</th>  <td>  0.00</td>  \n",
       "</tr>\n",
       "<tr>\n",
       "  <th>Time:</th>                 <td>17:34:41</td>     <th>  Log-Likelihood:    </th> <td> -89917.</td> \n",
       "</tr>\n",
       "<tr>\n",
       "  <th>No. Observations:</th>      <td> 53854</td>      <th>  AIC:               </th> <td>1.798e+05</td>\n",
       "</tr>\n",
       "<tr>\n",
       "  <th>Df Residuals:</th>          <td> 53851</td>      <th>  BIC:               </th> <td>1.799e+05</td>\n",
       "</tr>\n",
       "<tr>\n",
       "  <th>Df Model:</th>              <td>     3</td>      <th>                     </th>     <td> </td>    \n",
       "</tr>\n",
       "<tr>\n",
       "  <th>Covariance Type:</th>      <td>nonrobust</td>    <th>                     </th>     <td> </td>    \n",
       "</tr>\n",
       "</table>\n",
       "<table class=\"simpletable\">\n",
       "<tr>\n",
       "       <td></td>         <th>coef</th>     <th>std err</th>      <th>t</th>      <th>P>|t|</th>  <th>[0.025</th>    <th>0.975]</th>  \n",
       "</tr>\n",
       "<tr>\n",
       "  <th>YearBuilt</th>  <td>    0.0003</td> <td>  1.1e-05</td> <td>   25.357</td> <td> 0.000</td> <td>    0.000</td> <td>    0.000</td>\n",
       "</tr>\n",
       "<tr>\n",
       "  <th>LivingSqFt</th> <td> 2.856e-05</td> <td>  6.5e-06</td> <td>    4.390</td> <td> 0.000</td> <td> 1.58e-05</td> <td> 4.13e-05</td>\n",
       "</tr>\n",
       "<tr>\n",
       "  <th>Elevation</th>  <td>    0.0572</td> <td>    0.008</td> <td>    7.053</td> <td> 0.000</td> <td>    0.041</td> <td>    0.073</td>\n",
       "</tr>\n",
       "</table>\n",
       "<table class=\"simpletable\">\n",
       "<tr>\n",
       "  <th>Omnibus:</th>       <td>78044.397</td> <th>  Durbin-Watson:     </th>   <td>   1.544</td>  \n",
       "</tr>\n",
       "<tr>\n",
       "  <th>Prob(Omnibus):</th>  <td> 0.000</td>   <th>  Jarque-Bera (JB):  </th> <td>40881391.400</td>\n",
       "</tr>\n",
       "<tr>\n",
       "  <th>Skew:</th>           <td> 8.639</td>   <th>  Prob(JB):          </th>   <td>    0.00</td>  \n",
       "</tr>\n",
       "<tr>\n",
       "  <th>Kurtosis:</th>       <td>136.866</td>  <th>  Cond. No.          </th>   <td>4.18e+03</td>  \n",
       "</tr>\n",
       "</table>"
      ],
      "text/plain": [
       "<class 'statsmodels.iolib.summary.Summary'>\n",
       "\"\"\"\n",
       "                            OLS Regression Results                            \n",
       "==============================================================================\n",
       "Dep. Variable:                      y   R-squared:                       0.241\n",
       "Model:                            OLS   Adj. R-squared:                  0.241\n",
       "Method:                 Least Squares   F-statistic:                     5714.\n",
       "Date:                Wed, 13 Dec 2017   Prob (F-statistic):               0.00\n",
       "Time:                        17:34:41   Log-Likelihood:                -89917.\n",
       "No. Observations:               53854   AIC:                         1.798e+05\n",
       "Df Residuals:                   53851   BIC:                         1.799e+05\n",
       "Df Model:                           3                                         \n",
       "Covariance Type:            nonrobust                                         \n",
       "==============================================================================\n",
       "                 coef    std err          t      P>|t|      [0.025      0.975]\n",
       "------------------------------------------------------------------------------\n",
       "YearBuilt      0.0003    1.1e-05     25.357      0.000       0.000       0.000\n",
       "LivingSqFt  2.856e-05    6.5e-06      4.390      0.000    1.58e-05    4.13e-05\n",
       "Elevation      0.0572      0.008      7.053      0.000       0.041       0.073\n",
       "==============================================================================\n",
       "Omnibus:                    78044.397   Durbin-Watson:                   1.544\n",
       "Prob(Omnibus):                  0.000   Jarque-Bera (JB):         40881391.400\n",
       "Skew:                           8.639   Prob(JB):                         0.00\n",
       "Kurtosis:                     136.866   Cond. No.                     4.18e+03\n",
       "==============================================================================\n",
       "\n",
       "Warnings:\n",
       "[1] Standard Errors assume that the covariance matrix of the errors is correctly specified.\n",
       "[2] The condition number is large, 4.18e+03. This might indicate that there are\n",
       "strong multicollinearity or other numerical problems.\n",
       "\"\"\""
      ]
     },
     "execution_count": 38,
     "metadata": {},
     "output_type": "execute_result"
    }
   ],
   "source": [
    "#Regression results using Statsmodels\n",
    "mod = sm.OLS(y_train, x_train)\n",
    "linear = mod.fit()\n",
    "linear.summary()"
   ]
  },
  {
   "cell_type": "markdown",
   "metadata": {},
   "source": [
    "QUESTION: Why is the R^2 using Stats Models' Linear Regression SO much higher than the R^2 using SKLearn? The datasets are exactly the same. "
   ]
  },
  {
   "cell_type": "code",
   "execution_count": 39,
   "metadata": {},
   "outputs": [
    {
     "name": "stderr",
     "output_type": "stream",
     "text": [
      "/Users/thomashill/anaconda/lib/python3.6/site-packages/statsmodels/base/model.py:496: ConvergenceWarning: Maximum Likelihood optimization failed to converge. Check mle_retvals\n",
      "  \"Check mle_retvals\", ConvergenceWarning)\n"
     ]
    },
    {
     "name": "stdout",
     "output_type": "stream",
     "text": [
      "                 Mixed Linear Model Regression Results\n",
      "========================================================================\n",
      "Model:                MixedLM   Dependent Variable:   price_relative_ind\n",
      "No. Observations:     107984    Method:               REML              \n",
      "No. Groups:           33        Scale:                1.7464            \n",
      "Min. group size:      5         Likelihood:           -183529.4711      \n",
      "Max. group size:      58804     Converged:            Yes               \n",
      "Mean group size:      3272.2                                            \n",
      "------------------------------------------------------------------------\n",
      "                             Coef.  Std.Err.    z    P>|z| [0.025 0.975]\n",
      "------------------------------------------------------------------------\n",
      "Intercept                    25.093    1.409  17.810 0.000 22.331 27.854\n",
      "Elevation                     1.450    1.354   1.071 0.284 -1.203  4.103\n",
      "YearBuilt                    -0.013    0.000 -51.615 0.000 -0.014 -0.013\n",
      "LivingSqFt                    0.000    0.000  20.816 0.000  0.000  0.000\n",
      "Intercept RE                 56.146   15.958                            \n",
      "Intercept RE x Elevation RE -57.766   15.834                            \n",
      "Elevation RE                 59.491   15.735                            \n",
      "========================================================================\n",
      "\n"
     ]
    }
   ],
   "source": [
    "#Linear Mixed Effects\n",
    "md = smf.mixedlm('price_relative_ind~Elevation+YearBuilt+LivingSqFt',data=Miami_SF,groups='City',re_formula = '~Elevation')\n",
    "mdf = md.fit()\n",
    "print(mdf.summary())"
   ]
  },
  {
   "cell_type": "markdown",
   "metadata": {},
   "source": [
    "QUESTION: Why does the \"Elevation\" predictor have a higher p-value in the mixed linear model above than in the StatsModels linear regression from the cell before? "
   ]
  },
  {
   "cell_type": "code",
   "execution_count": 40,
   "metadata": {},
   "outputs": [
    {
     "data": {
      "text/plain": [
       "{'Aventura': Intercept    1.099319\n",
       " Elevation   -1.336699\n",
       " dtype: float64, 'Bal Harbour': Intercept    3.813173\n",
       " Elevation   -3.855579\n",
       " dtype: float64, 'Bay Harbor Islands': Intercept    0.675212\n",
       " Elevation   -0.782227\n",
       " dtype: float64, 'Biscayne Park': Intercept    1.304851\n",
       " Elevation   -1.521228\n",
       " dtype: float64, 'Coral Gables': Intercept    1.569770\n",
       " Elevation   -1.591724\n",
       " dtype: float64, 'Cutler Bay': Intercept    1.346520\n",
       " Elevation   -1.473511\n",
       " dtype: float64, 'Doral': Intercept    1.636288\n",
       " Elevation   -1.684415\n",
       " dtype: float64, 'El Portal': Intercept    1.214709\n",
       " Elevation   -1.562697\n",
       " dtype: float64, 'Golden Beach': Intercept    1.227148\n",
       " Elevation   -1.334412\n",
       " dtype: float64, 'Hialeah': Intercept    1.393258\n",
       " Elevation   -1.394579\n",
       " dtype: float64, 'Hialeah Gardens': Intercept    2.124940\n",
       " Elevation   -1.934954\n",
       " dtype: float64, 'Indian Creek': Intercept   -41.214586\n",
       " Elevation    42.381725\n",
       " dtype: float64, 'Key Biscayne': Intercept    0.408190\n",
       " Elevation   -0.111207\n",
       " dtype: float64, 'Medley': Intercept    0.069132\n",
       " Elevation   -0.072905\n",
       " dtype: float64, 'Miami': Intercept    1.285673\n",
       " Elevation   -1.444347\n",
       " dtype: float64, 'Miami Beach': Intercept    0.952519\n",
       " Elevation   -1.241688\n",
       " dtype: float64, 'Miami Gardens': Intercept    1.655179\n",
       " Elevation   -1.522758\n",
       " dtype: float64, 'Miami Lakes': Intercept    1.475050\n",
       " Elevation   -1.570998\n",
       " dtype: float64, 'Miami Shores': Intercept    1.322914\n",
       " Elevation   -1.588529\n",
       " dtype: float64, 'Miami Springs': Intercept    1.197354\n",
       " Elevation   -1.452108\n",
       " dtype: float64, 'North Bay Village': Intercept    1.932050\n",
       " Elevation   -1.945353\n",
       " dtype: float64, 'North Miami': Intercept    1.339347\n",
       " Elevation   -1.498262\n",
       " dtype: float64, 'North Miami Beach': Intercept    2.259065\n",
       " Elevation   -1.876155\n",
       " dtype: float64, 'Opa-Locka': Intercept    1.802466\n",
       " Elevation   -1.581481\n",
       " dtype: float64, 'Palmetto Bay': Intercept    1.331875\n",
       " Elevation   -1.442194\n",
       " dtype: float64, 'Pinecrest': Intercept    1.318385\n",
       " Elevation   -1.429990\n",
       " dtype: float64, 'South Miami': Intercept    1.361600\n",
       " Elevation   -1.416283\n",
       " dtype: float64, 'Sunny Isles Beach': Intercept    1.492861\n",
       " Elevation   -1.660046\n",
       " dtype: float64, 'Surfside': Intercept   -3.038318\n",
       " Elevation    3.774904\n",
       " dtype: float64, 'Sweetwater': Intercept    1.64560\n",
       " Elevation   -1.55952\n",
       " dtype: float64, 'Unincorporated County': Intercept    1.358529\n",
       " Elevation   -1.431012\n",
       " dtype: float64, 'Virginia Gardens': Intercept    1.223163\n",
       " Elevation   -1.388091\n",
       " dtype: float64, 'West Miami': Intercept    1.416763\n",
       " Elevation   -1.451679\n",
       " dtype: float64}"
      ]
     },
     "execution_count": 40,
     "metadata": {},
     "output_type": "execute_result"
    }
   ],
   "source": [
    "mdf.random_effects"
   ]
  },
  {
   "cell_type": "markdown",
   "metadata": {},
   "source": [
    "QUESTION: I'm a bit confused. Does the coefficient printed next to \"Elevation\" in each line of the mdf.random_effects results (printed below) equal the slope assigned to elevation for each group (City)? That would seem logical....but plotting the predicted values versus this intercept/slope for each city seems to contradict this interpretation. See code and plots below. "
   ]
  },
  {
   "cell_type": "code",
   "execution_count": 41,
   "metadata": {},
   "outputs": [],
   "source": [
    "#Zipping LME results into a dataframe\n",
    "Cities = list(set(Miami_SF['City']))\n",
    "Cities_set = []\n",
    "for c in Cities:\n",
    "    City_properties = Miami_SF[Miami_SF['City']==c]\n",
    "    if len(City_properties)>500:\n",
    "        Cities_set.append(c)\n",
    "\n",
    "effects_intercept = []\n",
    "effects_slope = []\n",
    "for i in Cities_set:\n",
    "    effects_intercept.append(mdf.random_effects[i][0])\n",
    "    effects_slope.append(mdf.random_effects[i][1])\n",
    "\n",
    "Cities_Random_Effects = pd.DataFrame(\n",
    "        {'Cities': Cities_set,\n",
    "         'Random Intercept': effects_intercept,\n",
    "         'Random Slope': effects_slope})\n",
    "\n",
    "Cities_Random_Effects = Cities_Random_Effects.sort_values(['Random Slope'])\n",
    "\n",
    "#Cities Random Effects Dictionary\n",
    "re_zip = zip(effects_intercept, effects_slope)\n",
    "Cities_RE_dict = dict(zip(Cities_set,re_zip))"
   ]
  },
  {
   "cell_type": "code",
   "execution_count": 42,
   "metadata": {
    "collapsed": true
   },
   "outputs": [],
   "source": [
    "#Getting predicted and actual values for each city\n",
    "Yhats_list = []\n",
    "for i in Cities_set:\n",
    "    dataset = Miami_SF[Miami_SF['City']==i]\n",
    "    city_elevs = dataset['Elevation']\n",
    "    yhats = mdf.predict(dataset)\n",
    "    actual = dataset['price_relative_ind']\n",
    "    city_coefs = pd.DataFrame({\n",
    "            'Elevations': city_elevs,\n",
    "            'Fitted Values': yhats,\n",
    "            'Actual Values': actual})\n",
    "    Yhats_list.append(city_coefs)\n",
    "Yhats_dict = dict(zip(Cities_set,Yhats_list))"
   ]
  },
  {
   "cell_type": "code",
   "execution_count": 58,
   "metadata": {
    "collapsed": true
   },
   "outputs": [],
   "source": [
    "def plot_fitted_values(city):\n",
    "    x = Yhats_dict[city]['Elevations']\n",
    "    y = Yhats_dict[city]['Fitted Values']\n",
    "\n",
    "    # Find the slope and intercept of the best fit line\n",
    "    intercept, slope = Cities_RE_dict[city][0],Cities_RE_dict[city][1]\n",
    "\n",
    "    # Create a list of values in the best fit line\n",
    "    abline_values = [slope * i + intercept for i in x]\n",
    "\n",
    "    plt.scatter(x, y)\n",
    "    plt.plot(x, abline_values, 'r')\n",
    "    plt.title(str(city))\n",
    "    plt.xlabel('Elevation')\n",
    "    plt.ylabel('Price Appreciation')\n",
    "    #plt.savefig(str(city)+' Elevation and Appreciation')\n",
    "    #plt.show()\n",
    "    #plt.gcf().clear()\n",
    "\n",
    "#for i in Cities_set:\n",
    "#    plot_fitted_values(i)"
   ]
  },
  {
   "cell_type": "code",
   "execution_count": 59,
   "metadata": {
    "collapsed": true
   },
   "outputs": [],
   "source": [
    "def plot_actual_values(city):\n",
    "    x = Yhats_dict[city]['Elevations']\n",
    "    y = Yhats_dict[city]['Actual Values']\n",
    "\n",
    "    # Find the slope and intercept of the best fit line\n",
    "    intercept, slope = Cities_RE_dict[city][0],Cities_RE_dict[city][1]\n",
    "\n",
    "    # Create a list of values in the best fit line\n",
    "    abline_values = [slope * i + intercept for i in x]\n",
    "\n",
    "    plt.scatter(x, y)\n",
    "    plt.plot(x, abline_values, 'r')\n",
    "    plt.title(str(city))\n",
    "    plt.xlabel('Elevation')\n",
    "    plt.ylabel('Price Appreciation')\n",
    "    #plt.savefig(str(city)+' Elevation and Appreciation')\n",
    "    #plt.show()\n",
    "    #plt.gcf().clear()\n",
    "\n",
    "#for i in Cities_set:\n",
    "#    plot_actual_values(i)"
   ]
  },
  {
   "cell_type": "code",
   "execution_count": 63,
   "metadata": {},
   "outputs": [
    {
     "data": {
      "image/png": "[encoded data removed]",
      "text/plain": [
       "<matplotlib.figure.Figure at 0x116382fd0>"
      ]
     },
     "metadata": {},
     "output_type": "display_data"
    }
   ],
   "source": [
    "plot_fitted_values('Coral Gables')"
   ]
  },
  {
   "cell_type": "code",
   "execution_count": 64,
   "metadata": {},
   "outputs": [
    {
     "data": {
      "image/png": "[encoded data removed]",
      "text/plain": [
       "<matplotlib.figure.Figure at 0x118c0dba8>"
      ]
     },
     "metadata": {},
     "output_type": "display_data"
    }
   ],
   "source": [
    "plot_fitted_values('Doral')"
   ]
  },
  {
   "cell_type": "code",
   "execution_count": 65,
   "metadata": {},
   "outputs": [
    {
     "data": {
      "image/png": "[encoded data removed]",
      "text/plain": [
       "<matplotlib.figure.Figure at 0x1195a8160>"
      ]
     },
     "metadata": {},
     "output_type": "display_data"
    }
   ],
   "source": [
    "plot_fitted_values('South Miami')"
   ]
  },
  {
   "cell_type": "markdown",
   "metadata": {},
   "source": [
    "QUESTION: Why do the fitted values appear to be precisely opposite of the trends indicated in the slope?"
   ]
  }
 ],
 "metadata": {
  "kernelspec": {
   "display_name": "Python 3",
   "language": "python",
   "name": "python3"
  },
  "language_info": {
   "codemirror_mode": {
    "name": "ipython",
    "version": 3
   },
   "file_extension": ".py",
   "mimetype": "text/x-python",
   "name": "python",
   "nbconvert_exporter": "python",
   "pygments_lexer": "ipython3",
   "version": "3.6.1"
  }
 },
 "nbformat": 4,
 "nbformat_minor": 2
}
